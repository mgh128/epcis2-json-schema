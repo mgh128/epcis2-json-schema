{
 "cells": [
  {
   "cell_type": "code",
   "execution_count": 1,
   "metadata": {},
   "outputs": [],
   "source": [
    "%matplotlib notebook\n",
    "\n",
    "import ujson\n",
    "import jsonschema\n",
    "import os\n",
    "from pprint import pprint\n",
    "import python_jsonschema_objects as pjs\n"
   ]
  },
  {
   "cell_type": "code",
   "execution_count": 2,
   "metadata": {
    "scrolled": true
   },
   "outputs": [
    {
     "name": "stdout",
     "output_type": "stream",
     "text": [
      "Testing all files in ../DotNetusing schema ../json_schema.json\n",
      "Succes: Validated Test1.json\n",
      "Succes: Validated ObjectEventPassQuantityList.json\n",
      "Succes: Validated ObjectEventPassBoth.json\n",
      "Succes: Validated ObjectEventPassEpcList.json\n",
      "Sucess: Validation failed ObjectEventFailNone.json\n",
      "Sucess: Validation failed QuantityElementFailEpcClass.json\n",
      "Sucess: Validation failed QuantityElementFailUom.json\n",
      "Succes: Validated QuantityElementPass.json\n",
      "Succes: Validated BusinessTransactionPass.json\n",
      "Sucess: Validation failed FailEventTimeZoneOffset.json\n",
      "Sucess: Validation failed FailEventTime.json\n",
      "Sucess: Validation failed BusinessTransactionFailBizTransaction.json\n"
     ]
    }
   ],
   "source": [
    "def test_wrapper(instance_file,schema_file):\n",
    "    \n",
    "    with open(schema_file,encoding=\"utf-8-sig\") as fd:\n",
    "        schema = ujson.load(fd)\n",
    "    with open(instance_file,encoding=\"utf-8-sig\") as fd:\n",
    "        instance = ujson.load(fd)\n",
    "    if 'Fail' in instance_file:\n",
    "        def on_call():\n",
    "            try:\n",
    "                jsonschema.validate(instance=instance,schema=schema)\n",
    "                print('Failed: ' + instance_file.split('/')[-1] )\n",
    "            except Exception as e:\n",
    "                print('Sucess: Validation failed ' + instance_file.split('/')[-1])\n",
    "                \n",
    "    else:\n",
    "        def on_call():\n",
    "            try:\n",
    "                jsonschema.validate(instance=instance,schema=schema)\n",
    "                print('Succes: Validated ' + instance_file.split('/')[-1] )\n",
    "            except Exception as e:\n",
    "                print('Failed: ' + instance_file.split('/')[-1] )\n",
    "    return on_call\n",
    "\n",
    "def find_testfile(node,schema):\n",
    "    out = ()\n",
    "    if os.path.isdir(node):\n",
    "        for file_or_dir in os.listdir(node):\n",
    "            for test_wrapper_func in find_testfile(os.path.join(node,file_or_dir),schema):\n",
    "                yield test_wrapper_func\n",
    "    elif node[-5:] == '.json':\n",
    "        yield test_wrapper(node,schema)\n",
    "\n",
    "\n",
    "test_folder = '../DotNet'\n",
    "epcis2_schema = '../json_schema.json'\n",
    "print('Testing all files in ' + test_folder + 'using schema ' + epcis2_schema)\n",
    "\n",
    "for test_f in find_testfile(test_folder,epcis2_schema):\n",
    "    test_f() is None"
   ]
  },
  {
   "cell_type": "code",
   "execution_count": null,
   "metadata": {
    "scrolled": false
   },
   "outputs": [],
   "source": []
  }
 ],
 "metadata": {
  "kernelspec": {
   "display_name": "Python 3",
   "language": "python",
   "name": "python3"
  },
  "language_info": {
   "codemirror_mode": {
    "name": "ipython",
    "version": 3
   },
   "file_extension": ".py",
   "mimetype": "text/x-python",
   "name": "python",
   "nbconvert_exporter": "python",
   "pygments_lexer": "ipython3",
   "version": "3.7.0"
  }
 },
 "nbformat": 4,
 "nbformat_minor": 2
}
