{
 "cells": [
  {
   "cell_type": "code",
   "execution_count": 50,
   "metadata": {},
   "outputs": [],
   "source": [
    "%matplotlib notebook\n",
    "\n",
    "import ujson\n",
    "import jsonschema\n",
    "import os\n",
    "from pprint import pprint\n",
    "import python_jsonschema_objects as pjs\n"
   ]
  },
  {
   "cell_type": "code",
   "execution_count": 49,
   "metadata": {
    "scrolled": false
   },
   "outputs": [],
   "source": [
    "with open('../json_schema.json',encoding=\"utf-8-sig\") as fd:\n",
    "    schema = ujson.load(fd)\n",
    "with open('../DotNet/EpcisJsonSchemaValidation/EpcisJsonSchemaValidationTests/AnyOfEpcQuantity/ObjectEventPassEpcList.json',encoding=\"utf-8-sig\") as fd:\n",
    "    example = ujson.load(fd)\n"
   ]
  },
  {
   "cell_type": "code",
   "execution_count": 97,
   "metadata": {
    "scrolled": false
   },
   "outputs": [
    {
     "name": "stdout",
     "output_type": "stream",
     "text": [
      "Validating Test1.json\n",
      "Validating ObjectEventPassQuantityList.json\n",
      "Validating ObjectEventPassBoth.json\n",
      "Validating ObjectEventPassEpcList.json\n",
      "Failed ObjectEventFailNone.json\n",
      "Failed QuantityElementFailEpcClass.json\n",
      "Failed QuantityElementFailUom.json\n",
      "Validating QuantityElementPass.json\n",
      "Validating BusinessTransactionPass.json\n",
      "Failed FailEventTimeZoneOffset.json\n",
      "Failed FailEventTime.json\n",
      "Failed BusinessTransactionFailBizTransaction.json\n"
     ]
    }
   ],
   "source": [
    "def test_wrapper(instance_file,schema_file):\n",
    "    def on_call():\n",
    "        with open(schema_file,encoding=\"utf-8-sig\") as fd:\n",
    "            schema = ujson.load(fd)\n",
    "        with open(instance_file,encoding=\"utf-8-sig\") as fd:\n",
    "            instance = ujson.load(fd)\n",
    "        try:\n",
    "            jsonschema.validate(instance=instance,schema=schema)\n",
    "            print('Validating ' + instance_file.split('/')[-1] )\n",
    "        except Exception as e:\n",
    "            print('Failed ' + instance_file.split('/')[-1] )\n",
    "    return on_call\n",
    "\n",
    "def find_testfile(node,schema):\n",
    "    out = ()\n",
    "    if os.path.isdir(node):\n",
    "        for child in os.listdir(node):\n",
    "            out += find_testfile(os.path.join(node,child),schema)\n",
    "    elif node[-5:] == '.json':\n",
    "        out = (test_wrapper(node,schema),)\n",
    "    return out\n",
    "\n",
    "\n",
    "for test_f in find_testfile('../DotNet','../json_schema.json'):\n",
    "    try:\n",
    "        test_f() is None\n",
    "    except Exception as e:\n",
    "        print(e)"
   ]
  },
  {
   "cell_type": "code",
   "execution_count": null,
   "metadata": {
    "scrolled": false
   },
   "outputs": [],
   "source": []
  }
 ],
 "metadata": {
  "kernelspec": {
   "display_name": "Python 3",
   "language": "python",
   "name": "python3"
  },
  "language_info": {
   "codemirror_mode": {
    "name": "ipython",
    "version": 3
   },
   "file_extension": ".py",
   "mimetype": "text/x-python",
   "name": "python",
   "nbconvert_exporter": "python",
   "pygments_lexer": "ipython3",
   "version": "3.7.0"
  }
 },
 "nbformat": 4,
 "nbformat_minor": 2
}
